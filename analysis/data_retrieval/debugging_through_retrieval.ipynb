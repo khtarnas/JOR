{
 "cells": [
  {
   "cell_type": "code",
   "execution_count": 1,
   "metadata": {},
   "outputs": [],
   "source": [
    "# Import Statements\n",
    "from sqlalchemy import create_engine, MetaData, Table\n",
    "import json\n",
    "import pandas as pd"
   ]
  },
  {
   "cell_type": "code",
   "execution_count": 2,
   "metadata": {},
   "outputs": [],
   "source": [
    "# Database Variables\n",
    "db_url = \"...\"\n",
    "table_name = \"JOR\"\n",
    "data_column_name = 'datastring'"
   ]
  },
  {
   "cell_type": "code",
   "execution_count": 3,
   "metadata": {},
   "outputs": [],
   "source": [
    "# boilerplace sqlalchemy setup\n",
    "engine = create_engine(db_url)\n",
    "metadata = MetaData()\n",
    "metadata.bind = engine\n",
    "table = Table(table_name, metadata, autoload=True)"
   ]
  },
  {
   "cell_type": "code",
   "execution_count": 4,
   "metadata": {},
   "outputs": [
    {
     "name": "stdout",
     "output_type": "stream",
     "text": [
      "<class 'sqlalchemy.engine.cursor.LegacyCursorResult'>\n"
     ]
    }
   ],
   "source": [
    "# make a query and loop through\n",
    "s = table.select()\n",
    "rows = s.execute()\n",
    "print(type(rows))\n",
    "data = []\n",
    "statuses = [0,1, 2,3,4,5,6,7] #status codes of subjects who completed experiment\n",
    "exclude = [] # if you have workers you wish to exclude, add them here\n",
    "conditions = []"
   ]
  },
  {
   "cell_type": "code",
   "execution_count": 5,
   "metadata": {},
   "outputs": [],
   "source": [
    "# count = 0\n",
    "# for row in rows:\n",
    "#     if row['mode'] != 'live':\n",
    "#         print(row['mode'])\n",
    "        \n",
    "#     if row['status'] == 3:\n",
    "#         print(row['status'])\n",
    "#     if count > 600:\n",
    "#         if row['status'] == 3:\n",
    "#             print(row['datastring']['id'])\n",
    "        \n",
    "#     if count == 900:\n",
    "#         print(row['codeversion'])\n",
    "#         for i in dict(row):\n",
    "#             print(i)\n",
    "#     count += 1"
   ]
  },
  {
   "cell_type": "code",
   "execution_count": 6,
   "metadata": {},
   "outputs": [
    {
     "name": "stdout",
     "output_type": "stream",
     "text": [
      "1319\n"
     ]
    }
   ],
   "source": [
    "for row in rows:\n",
    "    # only use subjects who completed experiment and aren't excluded\n",
    "    if row['status'] in statuses and row['uniqueid'] not in exclude:\n",
    "        conditions.append({\n",
    "                'uniqueid': row['uniqueid'],\n",
    "                'beginhit': row['beginhit'],\n",
    "                'endhit': row['endhit'],\n",
    "                'status': row['status'],\n",
    "                'counterbalance': row['counterbalance'],\n",
    "                'mode': row['mode'],\n",
    "                'workerid': row['workerid'],\n",
    "                'codeversion': row['codeversion']\n",
    "            })\n",
    "        \n",
    "        \n",
    "        data.append(row[data_column_name])\n",
    "\n",
    "print(len(data))"
   ]
  },
  {
   "cell_type": "code",
   "execution_count": 11,
   "metadata": {},
   "outputs": [
    {
     "data": {
      "text/html": [
       "<div>\n",
       "<style scoped>\n",
       "    .dataframe tbody tr th:only-of-type {\n",
       "        vertical-align: middle;\n",
       "    }\n",
       "\n",
       "    .dataframe tbody tr th {\n",
       "        vertical-align: top;\n",
       "    }\n",
       "\n",
       "    .dataframe thead th {\n",
       "        text-align: right;\n",
       "    }\n",
       "</style>\n",
       "<table border=\"1\" class=\"dataframe\">\n",
       "  <thead>\n",
       "    <tr style=\"text-align: right;\">\n",
       "      <th></th>\n",
       "      <th>uniqueid</th>\n",
       "      <th>beginhit</th>\n",
       "      <th>endhit</th>\n",
       "      <th>status</th>\n",
       "      <th>counterbalance</th>\n",
       "      <th>mode</th>\n",
       "      <th>workerid</th>\n",
       "      <th>codeversion</th>\n",
       "    </tr>\n",
       "  </thead>\n",
       "  <tbody>\n",
       "    <tr>\n",
       "      <th>40</th>\n",
       "      <td>A13PQTFAQ5LFSZ:3W8CV64QJ36XNYFL72PIVYKJO9YH9W</td>\n",
       "      <td>2021-08-03 23:50:20</td>\n",
       "      <td>NaT</td>\n",
       "      <td>6</td>\n",
       "      <td>2</td>\n",
       "      <td>live</td>\n",
       "      <td>A13PQTFAQ5LFSZ</td>\n",
       "      <td>2.0</td>\n",
       "    </tr>\n",
       "    <tr>\n",
       "      <th>316</th>\n",
       "      <td>A1XTT903BSWHYZ:38BQUHLA9X7MMZK20OODKTN40UJOMQ</td>\n",
       "      <td>2021-08-03 23:00:52</td>\n",
       "      <td>2021-08-03 23:22:41</td>\n",
       "      <td>4</td>\n",
       "      <td>3</td>\n",
       "      <td>live</td>\n",
       "      <td>A1XTT903BSWHYZ</td>\n",
       "      <td>2.0</td>\n",
       "    </tr>\n",
       "    <tr>\n",
       "      <th>610</th>\n",
       "      <td>A2SLA2D0C7OGB9:3W8CV64QJ36XNYFL72PIVYKJO9YH9W</td>\n",
       "      <td>2021-08-04 00:46:16</td>\n",
       "      <td>NaT</td>\n",
       "      <td>6</td>\n",
       "      <td>1</td>\n",
       "      <td>live</td>\n",
       "      <td>A2SLA2D0C7OGB9</td>\n",
       "      <td>2.0</td>\n",
       "    </tr>\n",
       "    <tr>\n",
       "      <th>673</th>\n",
       "      <td>A2XISYL8BR08AV:38BQUHLA9X7MMZK20OODKTN40UJOMQ</td>\n",
       "      <td>2021-08-03 20:59:11</td>\n",
       "      <td>NaT</td>\n",
       "      <td>6</td>\n",
       "      <td>1</td>\n",
       "      <td>live</td>\n",
       "      <td>A2XISYL8BR08AV</td>\n",
       "      <td>2.0</td>\n",
       "    </tr>\n",
       "    <tr>\n",
       "      <th>710</th>\n",
       "      <td>A313TT0C44PT1Y:3VNL7UK1XGQWTHXTAI6ZJD9I21OTFA</td>\n",
       "      <td>2021-08-03 23:27:22</td>\n",
       "      <td>2021-08-03 23:44:34</td>\n",
       "      <td>4</td>\n",
       "      <td>0</td>\n",
       "      <td>live</td>\n",
       "      <td>A313TT0C44PT1Y</td>\n",
       "      <td>2.0</td>\n",
       "    </tr>\n",
       "    <tr>\n",
       "      <th>832</th>\n",
       "      <td>A3DE5N73C0JHU9:3VNL7UK1XGQWTHXTAI6ZJD9I21OTFA</td>\n",
       "      <td>2021-08-03 20:43:59</td>\n",
       "      <td>NaT</td>\n",
       "      <td>6</td>\n",
       "      <td>0</td>\n",
       "      <td>live</td>\n",
       "      <td>A3DE5N73C0JHU9</td>\n",
       "      <td>2.0</td>\n",
       "    </tr>\n",
       "  </tbody>\n",
       "</table>\n",
       "</div>"
      ],
      "text/plain": [
       "                                          uniqueid            beginhit  \\\n",
       "40   A13PQTFAQ5LFSZ:3W8CV64QJ36XNYFL72PIVYKJO9YH9W 2021-08-03 23:50:20   \n",
       "316  A1XTT903BSWHYZ:38BQUHLA9X7MMZK20OODKTN40UJOMQ 2021-08-03 23:00:52   \n",
       "610  A2SLA2D0C7OGB9:3W8CV64QJ36XNYFL72PIVYKJO9YH9W 2021-08-04 00:46:16   \n",
       "673  A2XISYL8BR08AV:38BQUHLA9X7MMZK20OODKTN40UJOMQ 2021-08-03 20:59:11   \n",
       "710  A313TT0C44PT1Y:3VNL7UK1XGQWTHXTAI6ZJD9I21OTFA 2021-08-03 23:27:22   \n",
       "832  A3DE5N73C0JHU9:3VNL7UK1XGQWTHXTAI6ZJD9I21OTFA 2021-08-03 20:43:59   \n",
       "\n",
       "                 endhit  status  counterbalance  mode        workerid  \\\n",
       "40                  NaT       6               2  live  A13PQTFAQ5LFSZ   \n",
       "316 2021-08-03 23:22:41       4               3  live  A1XTT903BSWHYZ   \n",
       "610                 NaT       6               1  live  A2SLA2D0C7OGB9   \n",
       "673                 NaT       6               1  live  A2XISYL8BR08AV   \n",
       "710 2021-08-03 23:44:34       4               0  live  A313TT0C44PT1Y   \n",
       "832                 NaT       6               0  live  A3DE5N73C0JHU9   \n",
       "\n",
       "    codeversion  \n",
       "40          2.0  \n",
       "316         2.0  \n",
       "610         2.0  \n",
       "673         2.0  \n",
       "710         2.0  \n",
       "832         2.0  "
      ]
     },
     "execution_count": 11,
     "metadata": {},
     "output_type": "execute_result"
    }
   ],
   "source": [
    "condition_frame = pd.DataFrame(conditions)\n",
    "condition_frame[condition_frame['codeversion'] == '2.0']"
   ]
  },
  {
   "cell_type": "code",
   "execution_count": 8,
   "metadata": {},
   "outputs": [
    {
     "name": "stdout",
     "output_type": "stream",
     "text": [
      "A3MYPYBVHX7FQ2\n"
     ]
    },
    {
     "data": {
      "text/html": [
       "<div>\n",
       "<style scoped>\n",
       "    .dataframe tbody tr th:only-of-type {\n",
       "        vertical-align: middle;\n",
       "    }\n",
       "\n",
       "    .dataframe tbody tr th {\n",
       "        vertical-align: top;\n",
       "    }\n",
       "\n",
       "    .dataframe thead th {\n",
       "        text-align: right;\n",
       "    }\n",
       "</style>\n",
       "<table border=\"1\" class=\"dataframe\">\n",
       "  <thead>\n",
       "    <tr style=\"text-align: right;\">\n",
       "      <th></th>\n",
       "      <th>uniqueid</th>\n",
       "      <th>beginhit</th>\n",
       "      <th>endhit</th>\n",
       "      <th>status</th>\n",
       "      <th>counterbalance</th>\n",
       "      <th>mode</th>\n",
       "      <th>workerid</th>\n",
       "      <th>codeversion</th>\n",
       "    </tr>\n",
       "  </thead>\n",
       "  <tbody>\n",
       "    <tr>\n",
       "      <th>919</th>\n",
       "      <td>A3MYPYBVHX7FQ2:3DPNQGW4LMMGT3PSUO2NHZKDNH464A</td>\n",
       "      <td>2021-06-29 16:05:07</td>\n",
       "      <td>NaT</td>\n",
       "      <td>2</td>\n",
       "      <td>44</td>\n",
       "      <td>live</td>\n",
       "      <td>A3MYPYBVHX7FQ2</td>\n",
       "      <td>1.0</td>\n",
       "    </tr>\n",
       "  </tbody>\n",
       "</table>\n",
       "</div>"
      ],
      "text/plain": [
       "                                          uniqueid            beginhit endhit  \\\n",
       "919  A3MYPYBVHX7FQ2:3DPNQGW4LMMGT3PSUO2NHZKDNH464A 2021-06-29 16:05:07    NaT   \n",
       "\n",
       "     status  counterbalance  mode        workerid codeversion  \n",
       "919       2              44  live  A3MYPYBVHX7FQ2         1.0  "
      ]
     },
     "metadata": {},
     "output_type": "display_data"
    },
    {
     "name": "stdout",
     "output_type": "stream",
     "text": [
      "A2YWLCSIANMV1S\n"
     ]
    },
    {
     "data": {
      "text/html": [
       "<div>\n",
       "<style scoped>\n",
       "    .dataframe tbody tr th:only-of-type {\n",
       "        vertical-align: middle;\n",
       "    }\n",
       "\n",
       "    .dataframe tbody tr th {\n",
       "        vertical-align: top;\n",
       "    }\n",
       "\n",
       "    .dataframe thead th {\n",
       "        text-align: right;\n",
       "    }\n",
       "</style>\n",
       "<table border=\"1\" class=\"dataframe\">\n",
       "  <thead>\n",
       "    <tr style=\"text-align: right;\">\n",
       "      <th></th>\n",
       "      <th>uniqueid</th>\n",
       "      <th>beginhit</th>\n",
       "      <th>endhit</th>\n",
       "      <th>status</th>\n",
       "      <th>counterbalance</th>\n",
       "      <th>mode</th>\n",
       "      <th>workerid</th>\n",
       "      <th>codeversion</th>\n",
       "    </tr>\n",
       "  </thead>\n",
       "  <tbody>\n",
       "    <tr>\n",
       "      <th>693</th>\n",
       "      <td>A2YWLCSIANMV1S:35GCEFQ6I6VXZHQZWFUF4SL2ELIZ3M</td>\n",
       "      <td>2021-06-29 14:24:59</td>\n",
       "      <td>NaT</td>\n",
       "      <td>6</td>\n",
       "      <td>7</td>\n",
       "      <td>live</td>\n",
       "      <td>A2YWLCSIANMV1S</td>\n",
       "      <td>1.0</td>\n",
       "    </tr>\n",
       "  </tbody>\n",
       "</table>\n",
       "</div>"
      ],
      "text/plain": [
       "                                          uniqueid            beginhit endhit  \\\n",
       "693  A2YWLCSIANMV1S:35GCEFQ6I6VXZHQZWFUF4SL2ELIZ3M 2021-06-29 14:24:59    NaT   \n",
       "\n",
       "     status  counterbalance  mode        workerid codeversion  \n",
       "693       6               7  live  A2YWLCSIANMV1S         1.0  "
      ]
     },
     "metadata": {},
     "output_type": "display_data"
    },
    {
     "name": "stdout",
     "output_type": "stream",
     "text": [
      "A7FQJ15Y5XV6W\n"
     ]
    },
    {
     "data": {
      "text/html": [
       "<div>\n",
       "<style scoped>\n",
       "    .dataframe tbody tr th:only-of-type {\n",
       "        vertical-align: middle;\n",
       "    }\n",
       "\n",
       "    .dataframe tbody tr th {\n",
       "        vertical-align: top;\n",
       "    }\n",
       "\n",
       "    .dataframe thead th {\n",
       "        text-align: right;\n",
       "    }\n",
       "</style>\n",
       "<table border=\"1\" class=\"dataframe\">\n",
       "  <thead>\n",
       "    <tr style=\"text-align: right;\">\n",
       "      <th></th>\n",
       "      <th>uniqueid</th>\n",
       "      <th>beginhit</th>\n",
       "      <th>endhit</th>\n",
       "      <th>status</th>\n",
       "      <th>counterbalance</th>\n",
       "      <th>mode</th>\n",
       "      <th>workerid</th>\n",
       "      <th>codeversion</th>\n",
       "    </tr>\n",
       "  </thead>\n",
       "  <tbody>\n",
       "    <tr>\n",
       "      <th>1036</th>\n",
       "      <td>A7FQJ15Y5XV6W:33CUSNVVNOJ4GIVIZ6PYIPW9VY488J</td>\n",
       "      <td>2021-06-29 13:30:10</td>\n",
       "      <td>2021-06-29 15:23:04</td>\n",
       "      <td>5</td>\n",
       "      <td>36</td>\n",
       "      <td>live</td>\n",
       "      <td>A7FQJ15Y5XV6W</td>\n",
       "      <td>1.0</td>\n",
       "    </tr>\n",
       "  </tbody>\n",
       "</table>\n",
       "</div>"
      ],
      "text/plain": [
       "                                          uniqueid            beginhit  \\\n",
       "1036  A7FQJ15Y5XV6W:33CUSNVVNOJ4GIVIZ6PYIPW9VY488J 2021-06-29 13:30:10   \n",
       "\n",
       "                  endhit  status  counterbalance  mode       workerid  \\\n",
       "1036 2021-06-29 15:23:04       5              36  live  A7FQJ15Y5XV6W   \n",
       "\n",
       "     codeversion  \n",
       "1036         1.0  "
      ]
     },
     "metadata": {},
     "output_type": "display_data"
    },
    {
     "name": "stdout",
     "output_type": "stream",
     "text": [
      "A1SLD1XTQAUGH\n"
     ]
    },
    {
     "data": {
      "text/html": [
       "<div>\n",
       "<style scoped>\n",
       "    .dataframe tbody tr th:only-of-type {\n",
       "        vertical-align: middle;\n",
       "    }\n",
       "\n",
       "    .dataframe tbody tr th {\n",
       "        vertical-align: top;\n",
       "    }\n",
       "\n",
       "    .dataframe thead th {\n",
       "        text-align: right;\n",
       "    }\n",
       "</style>\n",
       "<table border=\"1\" class=\"dataframe\">\n",
       "  <thead>\n",
       "    <tr style=\"text-align: right;\">\n",
       "      <th></th>\n",
       "      <th>uniqueid</th>\n",
       "      <th>beginhit</th>\n",
       "      <th>endhit</th>\n",
       "      <th>status</th>\n",
       "      <th>counterbalance</th>\n",
       "      <th>mode</th>\n",
       "      <th>workerid</th>\n",
       "      <th>codeversion</th>\n",
       "    </tr>\n",
       "  </thead>\n",
       "  <tbody>\n",
       "    <tr>\n",
       "      <th>274</th>\n",
       "      <td>A1SLD1XTQAUGH:3HMVI3QICKZ1KO2FDPED2SX3A711Y6</td>\n",
       "      <td>2021-06-29 13:30:20</td>\n",
       "      <td>2021-06-29 15:00:59</td>\n",
       "      <td>4</td>\n",
       "      <td>72</td>\n",
       "      <td>live</td>\n",
       "      <td>A1SLD1XTQAUGH</td>\n",
       "      <td>1.0</td>\n",
       "    </tr>\n",
       "  </tbody>\n",
       "</table>\n",
       "</div>"
      ],
      "text/plain": [
       "                                         uniqueid            beginhit  \\\n",
       "274  A1SLD1XTQAUGH:3HMVI3QICKZ1KO2FDPED2SX3A711Y6 2021-06-29 13:30:20   \n",
       "\n",
       "                 endhit  status  counterbalance  mode       workerid  \\\n",
       "274 2021-06-29 15:00:59       4              72  live  A1SLD1XTQAUGH   \n",
       "\n",
       "    codeversion  \n",
       "274         1.0  "
      ]
     },
     "metadata": {},
     "output_type": "display_data"
    },
    {
     "name": "stdout",
     "output_type": "stream",
     "text": [
      "A2ZHBK2MDL2L51\n"
     ]
    },
    {
     "data": {
      "text/html": [
       "<div>\n",
       "<style scoped>\n",
       "    .dataframe tbody tr th:only-of-type {\n",
       "        vertical-align: middle;\n",
       "    }\n",
       "\n",
       "    .dataframe tbody tr th {\n",
       "        vertical-align: top;\n",
       "    }\n",
       "\n",
       "    .dataframe thead th {\n",
       "        text-align: right;\n",
       "    }\n",
       "</style>\n",
       "<table border=\"1\" class=\"dataframe\">\n",
       "  <thead>\n",
       "    <tr style=\"text-align: right;\">\n",
       "      <th></th>\n",
       "      <th>uniqueid</th>\n",
       "      <th>beginhit</th>\n",
       "      <th>endhit</th>\n",
       "      <th>status</th>\n",
       "      <th>counterbalance</th>\n",
       "      <th>mode</th>\n",
       "      <th>workerid</th>\n",
       "      <th>codeversion</th>\n",
       "    </tr>\n",
       "  </thead>\n",
       "  <tbody>\n",
       "    <tr>\n",
       "      <th>699</th>\n",
       "      <td>A2ZHBK2MDL2L51:3HL8HNGX468D92OFCC1ISD8609PF9M</td>\n",
       "      <td>2021-06-10 17:02:03</td>\n",
       "      <td>2021-06-10 17:29:21</td>\n",
       "      <td>5</td>\n",
       "      <td>72</td>\n",
       "      <td>live</td>\n",
       "      <td>A2ZHBK2MDL2L51</td>\n",
       "      <td>1.0</td>\n",
       "    </tr>\n",
       "  </tbody>\n",
       "</table>\n",
       "</div>"
      ],
      "text/plain": [
       "                                          uniqueid            beginhit  \\\n",
       "699  A2ZHBK2MDL2L51:3HL8HNGX468D92OFCC1ISD8609PF9M 2021-06-10 17:02:03   \n",
       "\n",
       "                 endhit  status  counterbalance  mode        workerid  \\\n",
       "699 2021-06-10 17:29:21       5              72  live  A2ZHBK2MDL2L51   \n",
       "\n",
       "    codeversion  \n",
       "699         1.0  "
      ]
     },
     "metadata": {},
     "output_type": "display_data"
    }
   ],
   "source": [
    "checks = ['A3MYPYBVHX7FQ2', 'A2YWLCSIANMV1S', 'A7FQJ15Y5XV6W', 'A1SLD1XTQAUGH', 'A2ZHBK2MDL2L51', ]\n",
    "for i in checks:\n",
    "    print(i)\n",
    "    display(condition_frame[condition_frame['workerid'] == i])"
   ]
  },
  {
   "cell_type": "code",
   "execution_count": 9,
   "metadata": {},
   "outputs": [],
   "source": [
    "subject_data = []\n",
    "for subject_json in data:\n",
    "    try:\n",
    "        subject_dict = json.loads(subject_json)\n",
    "        subject_data.append(subject_dict['data'])\n",
    "    except:\n",
    "        continue"
   ]
  },
  {
   "cell_type": "code",
   "execution_count": 10,
   "metadata": {},
   "outputs": [],
   "source": [
    "for part in subject_data:\n",
    "    for record in part:\n",
    "        record['trialdata']['uniqueid'] = record['uniqueid']"
   ]
  },
  {
   "cell_type": "code",
   "execution_count": null,
   "metadata": {},
   "outputs": [],
   "source": []
  }
 ],
 "metadata": {
  "kernelspec": {
   "display_name": "base",
   "language": "python",
   "name": "python3"
  },
  "language_info": {
   "codemirror_mode": {
    "name": "ipython",
    "version": 3
   },
   "file_extension": ".py",
   "mimetype": "text/x-python",
   "name": "python",
   "nbconvert_exporter": "python",
   "pygments_lexer": "ipython3",
   "version": "3.8.3 (default, Jul  2 2020, 11:26:31) \n[Clang 10.0.0 ]"
  },
  "vscode": {
   "interpreter": {
    "hash": "5acbd729419d4ea191f47d578241fedaf7e57638013c4e4fc53acefaa95c16d3"
   }
  }
 },
 "nbformat": 4,
 "nbformat_minor": 4
}
