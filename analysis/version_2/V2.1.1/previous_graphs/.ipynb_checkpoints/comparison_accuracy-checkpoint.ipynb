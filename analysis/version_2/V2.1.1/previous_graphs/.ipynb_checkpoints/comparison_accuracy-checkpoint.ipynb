{
 "cells": [
  {
   "cell_type": "code",
   "execution_count": 8,
   "id": "b0386c0f-790c-4e92-b045-e166b6679aa1",
   "metadata": {},
   "outputs": [],
   "source": [
    "import warnings\n",
    "warnings.filterwarnings(\"ignore\")"
   ]
  },
  {
   "cell_type": "code",
   "execution_count": 9,
   "id": "7b167c42-c2a8-4ab1-ab0d-4247e1142417",
   "metadata": {},
   "outputs": [],
   "source": [
    "%store -r data_frame_2_1\n",
    "df = data_frame_2_1"
   ]
  },
  {
   "cell_type": "code",
   "execution_count": 22,
   "id": "b123b479-a14c-4cdd-8519-90f2f5e1f8ba",
   "metadata": {},
   "outputs": [],
   "source": [
    "first_distances = [4, 6, 8, 10, 14, 18, 22, 28, 34]\n",
    "second_distances = [6, 8, 10, 16, 22, 30, 40]\n",
    "comparisons = [ [4,6], [4,8], [4,10], [4,16], [4,22], [4,30], [4,40], [6,8], [6,10], [6,16], [6,22], [6,30], [6,40], [8,10], [8,16], [8,22], [8,30], [8,40],\n",
    "    [10,16], [10,22], [10,30], [10,40], [14,16], [14,22], [14,30], [14,40], [18,22], [18,30], [18,40], [22,30], [22,40], [28,30], [28,40], [34,40] ]"
   ]
  },
  {
   "cell_type": "code",
   "execution_count": 23,
   "id": "683a92ad-6f9d-4fae-85d1-15d054641c66",
   "metadata": {},
   "outputs": [],
   "source": [
    "def getComparisonAccuracy(df, comp1, comp2):\n",
    "    left_correct = len(df[df['left_comp_type'] == comp1][df['right_comp_type'] == comp2][df['chosen_side'] == df['correct_side']])\n",
    "    right_correct = len(df[df['left_comp_type'] == comp2][df['right_comp_type'] == comp1][df['chosen_side'] == df['correct_side']])\n",
    "    left = len(df[df['left_comp_type'] == comp1][df['right_comp_type'] == comp2])\n",
    "    right = len(df[df['left_comp_type'] == comp2][df['right_comp_type'] == comp1])\n",
    "    return (left_correct + right_correct)/(left + right)\n",
    "\n",
    "def getFirstDistanceAccuracy(df, dist):\n",
    "    second_distances = [6, 8, 10, 16, 22, 30, 40]\n",
    "    total = 0\n",
    "    num = 0\n",
    "    for i in second_distances:\n",
    "        if (i > dist):\n",
    "            total += getComparisonAccuracy(df, dist, i)\n",
    "            num += 1\n",
    "    return total / num\n",
    "\n",
    "def getSecondDistanceAccuracy(df, dist):\n",
    "    first_distances = [4, 6, 8, 10, 14, 18, 22, 28, 34]\n",
    "    total = 0\n",
    "    num = 0\n",
    "    for i in first_distances:\n",
    "        if (i < dist):\n",
    "            total += getComparisonAccuracy(df, dist, i)\n",
    "            num += 1\n",
    "    return total / num\n",
    "\n",
    "def getOverallAccuracy(df):\n",
    "    first_distances = [4, 6, 8, 10, 14, 18, 22, 28, 34]\n",
    "    total = 0\n",
    "    for i in first_distances:\n",
    "        total += getFirstDistanceAccuracy(df, i)\n",
    "    return total / len(first_distances)"
   ]
  },
  {
   "cell_type": "code",
   "execution_count": 24,
   "id": "3dbe4da7-7786-46f3-b0a5-b5073cad04f3",
   "metadata": {},
   "outputs": [],
   "source": [
    "def getFirstDistanceAccuracy(df, dist):\n",
    "    second_distances = [6, 8, 10, 16, 22, 30, 40]\n",
    "    total = 0\n",
    "    num = 0\n",
    "    for i in second_distances:\n",
    "        if (i > dist):\n",
    "            total += getComparisonAccuracy(df, dist, i)\n",
    "            num += 1\n",
    "    return total / num"
   ]
  },
  {
   "cell_type": "code",
   "execution_count": 25,
   "id": "3133cd81-4f5a-4326-80dc-43ea37673c6e",
   "metadata": {},
   "outputs": [],
   "source": [
    "def getSecondDistanceAccuracy(df, dist):\n",
    "    first_distances = [4, 6, 8, 10, 14, 18, 22, 28, 34]\n",
    "    total = 0\n",
    "    num = 0\n",
    "    for i in first_distances:\n",
    "        if (i < dist):\n",
    "            total += getComparisonAccuracy(df, dist, i)\n",
    "            num += 1\n",
    "    return total / num"
   ]
  },
  {
   "cell_type": "code",
   "execution_count": 31,
   "id": "be2a61ec-c1f1-4970-b6cb-6a7913acaa8a",
   "metadata": {},
   "outputs": [],
   "source": [
    "def getOverallAccuracy(df):\n",
    "    first_distances = [4, 6, 8, 10, 14, 18, 22, 28, 34]\n",
    "    total = 0\n",
    "    for i in first_distances:\n",
    "        total += getFirstDistanceAccuracy(df, i)\n",
    "    return total / len(first_distances)"
   ]
  },
  {
   "cell_type": "code",
   "execution_count": 32,
   "id": "b061565d-ded5-4d02-b18d-09de7553061e",
   "metadata": {},
   "outputs": [
    {
     "name": "stdout",
     "output_type": "stream",
     "text": [
      "Accuracy of 4 as first distance is: 0.5865508656470714\n",
      "Accuracy of 6 as first distance is: 0.581033440845861\n",
      "Accuracy of 8 as first distance is: 0.5734830183316755\n",
      "Accuracy of 10 as first distance is: 0.5649370642620607\n",
      "Accuracy of 14 as first distance is: 0.5715784384018571\n",
      "Accuracy of 18 as first distance is: 0.5371758380771663\n",
      "Accuracy of 22 as first distance is: 0.5341237441919551\n",
      "Accuracy of 28 as first distance is: 0.5241935483870968\n",
      "Accuracy of 34 as first distance is: 0.5395894428152492\n"
     ]
    }
   ],
   "source": [
    " for i in first_distances:\n",
    "        print(\"Accuracy of \" + str(i) + \" as first distance is: \" + str(getFirstDistanceAccuracy(df, i)))"
   ]
  },
  {
   "cell_type": "code",
   "execution_count": 33,
   "id": "0f1220cd-3628-4e50-80b1-f21f9386c80b",
   "metadata": {},
   "outputs": [
    {
     "name": "stdout",
     "output_type": "stream",
     "text": [
      "Accuracy of 6 as second distance is: 0.5953079178885631\n",
      "Accuracy of 8 as second distance is: 0.565982404692082\n",
      "Accuracy of 10 as second distance is: 0.5610948191593352\n",
      "Accuracy of 16 as second distance is: 0.5619061152953437\n",
      "Accuracy of 22 as second distance is: 0.5688267001996323\n",
      "Accuracy of 30 as second distance is: 0.5610894719773786\n",
      "Accuracy of 40 as second distance is: 0.5723912900976992\n"
     ]
    }
   ],
   "source": [
    "for i in second_distances:\n",
    "    print(\"Accuracy of \" + str(i) + \" as second distance is: \" + str(getSecondDistanceAccuracy(df, i)))"
   ]
  },
  {
   "cell_type": "code",
   "execution_count": 34,
   "id": "a1eccdfd-83e0-4496-b4b0-d66f607c9fc0",
   "metadata": {},
   "outputs": [
    {
     "data": {
      "text/plain": [
       "0.556962822328888"
      ]
     },
     "execution_count": 34,
     "metadata": {},
     "output_type": "execute_result"
    }
   ],
   "source": [
    "getOverallAccuracy(df)"
   ]
  },
  {
   "cell_type": "code",
   "execution_count": null,
   "id": "fb91727b-5b60-4fc7-948c-e412821c92df",
   "metadata": {},
   "outputs": [],
   "source": []
  }
 ],
 "metadata": {
  "kernelspec": {
   "display_name": "jor",
   "language": "python",
   "name": "jor"
  },
  "language_info": {
   "codemirror_mode": {
    "name": "ipython",
    "version": 3
   },
   "file_extension": ".py",
   "mimetype": "text/x-python",
   "name": "python",
   "nbconvert_exporter": "python",
   "pygments_lexer": "ipython3",
   "version": "3.8.8"
  }
 },
 "nbformat": 4,
 "nbformat_minor": 5
}
