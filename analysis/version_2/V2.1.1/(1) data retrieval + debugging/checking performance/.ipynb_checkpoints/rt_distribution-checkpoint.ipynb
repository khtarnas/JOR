{
 "cells": [
  {
   "cell_type": "code",
   "execution_count": 40,
   "id": "2ca6a083-47cc-47c7-970e-fb50562fbafa",
   "metadata": {},
   "outputs": [],
   "source": [
    "# Imports\n",
    "import random\n",
    "import matplotlib.pyplot as plt\n",
    "import numpy as np\n",
    "import seaborn as sns"
   ]
  },
  {
   "cell_type": "code",
   "execution_count": 7,
   "id": "3846a85f-6f04-4131-b353-604fba37dc9c",
   "metadata": {},
   "outputs": [],
   "source": [
    "# Get raw 2.1.1 data\n",
    "%store -r data_frame_2_1_1_preexclusions\n",
    "data_frame = data_frame_2_1_1_preexclusions"
   ]
  },
  {
   "cell_type": "code",
   "execution_count": 32,
   "id": "5f1ec574-acf3-401d-98c5-b119abe0f068",
   "metadata": {},
   "outputs": [],
   "source": [
    "study_test_df = data_frame.query('block_number > 0 and trial_period == trial_period')\n",
    "test_df = study_test_df.query('trial_period == \"test\"')\n",
    "test_df['correct'] = test_df['correct_side'] == test_df['chosen_side']\n",
    "acc_df = test_df.groupby('uniqueid').agg({'correct': 'mean'}).reset_index()"
   ]
  },
  {
   "cell_type": "code",
   "execution_count": 36,
   "id": "9367d177-36a5-41c0-bfdf-3c7eec348b26",
   "metadata": {},
   "outputs": [],
   "source": [
    "correct_test_df = test_df.query('correct == True')"
   ]
  },
  {
   "cell_type": "code",
   "execution_count": 42,
   "id": "4ae4f4b2-d3b2-4c3a-be1e-3c545805f154",
   "metadata": {},
   "outputs": [],
   "source": [
    "subj_mean_rt_df = correct_test_df.groupby('uniqueid').agg({'rt': 'mean'}).reset_index()"
   ]
  },
  {
   "cell_type": "code",
   "execution_count": 43,
   "id": "153a32d3-73c5-4770-af5a-cd09fc63d805",
   "metadata": {},
   "outputs": [
    {
     "data": {
      "text/plain": [
       "<seaborn.axisgrid.FacetGrid at 0x2b287a307b20>"
      ]
     },
     "execution_count": 43,
     "metadata": {},
     "output_type": "execute_result"
    },
    {
     "data": {
      "image/png": "[encoded data removed]",
      "text/plain": [
       "<Figure size 360x360 with 1 Axes>"
      ]
     },
     "metadata": {
      "needs_background": "light"
     },
     "output_type": "display_data"
    }
   ],
   "source": [
    "sns.displot(x='rt', data=subj_mean_rt_df)"
   ]
  },
  {
   "cell_type": "code",
   "execution_count": null,
   "id": "af20de1f-ce31-43a6-8551-c3ea49442861",
   "metadata": {},
   "outputs": [],
   "source": []
  },
  {
   "cell_type": "code",
   "execution_count": 8,
   "id": "db3e2bfd-9930-431d-8a5e-baeee83f1c22",
   "metadata": {},
   "outputs": [
    {
     "data": {
      "text/plain": [
       "371"
      ]
     },
     "execution_count": 8,
     "metadata": {},
     "output_type": "execute_result"
    }
   ],
   "source": [
    "# Get quantity of subjects initially:\n",
    "len(data_frame['uniqueid'].unique())"
   ]
  },
  {
   "cell_type": "code",
   "execution_count": 9,
   "id": "b988fac6-8ae3-4cff-8904-01bddca570fd",
   "metadata": {},
   "outputs": [],
   "source": [
    "'''\n",
    "Functions to compute accuracies:\n",
    "'''\n",
    "\n",
    "def getCorrectAnswerRTmean(df):\n",
    "    \n",
    "    # only correct responses\n",
    "    correct_df = df[df['chosen_side'] == df['correct_side']]\n",
    "    \n",
    "    return correct_df['rt'].mean()\n",
    "\n",
    "def getALLanswerRTmean(df):\n",
    "    return df['rt'].mean()"
   ]
  },
  {
   "cell_type": "code",
   "execution_count": 10,
   "id": "846a7465-3261-45fb-8d7f-a4480ddea4b9",
   "metadata": {},
   "outputs": [],
   "source": [
    "# Get accuracies \n",
    "corr_rts = []\n",
    "all_rts = []\n",
    "for i in data_frame['uniqueid'].unique():\n",
    "\n",
    "    df = data_frame[data_frame['uniqueid'] == i]\n",
    "    corr_rts.append(getCorrectAnswerRTmean(df))"
   ]
  },
  {
   "cell_type": "code",
   "execution_count": 27,
   "id": "a3a972e1-5d32-4fc0-bdc9-f540100a2738",
   "metadata": {},
   "outputs": [
    {
     "ename": "AttributeError",
     "evalue": "'numpy.ndarray' object has no attribute 'set_figheight'",
     "output_type": "error",
     "traceback": [
      "\u001b[0;31m---------------------------------------------------------------------------\u001b[0m",
      "\u001b[0;31mAttributeError\u001b[0m                            Traceback (most recent call last)",
      "\u001b[0;32m<ipython-input-29-3308ab3457cd>\u001b[0m in \u001b[0;36m<module>\u001b[0;34m\u001b[0m\n\u001b[1;32m      4\u001b[0m \u001b[0mplt\u001b[0m\u001b[0;34m.\u001b[0m\u001b[0mylabel\u001b[0m\u001b[0;34m(\u001b[0m\u001b[0;34m\"Average RT on correct answers (ms)\"\u001b[0m\u001b[0;34m)\u001b[0m\u001b[0;34m\u001b[0m\u001b[0;34m\u001b[0m\u001b[0m\n\u001b[1;32m      5\u001b[0m \u001b[0mplt\u001b[0m\u001b[0;34m.\u001b[0m\u001b[0mxticks\u001b[0m\u001b[0;34m(\u001b[0m\u001b[0mnp\u001b[0m\u001b[0;34m.\u001b[0m\u001b[0marange\u001b[0m\u001b[0;34m(\u001b[0m\u001b[0;36m0\u001b[0m\u001b[0;34m,\u001b[0m \u001b[0;36m30000\u001b[0m\u001b[0;34m,\u001b[0m \u001b[0;36m2500\u001b[0m\u001b[0;34m)\u001b[0m\u001b[0;34m)\u001b[0m\u001b[0;34m\u001b[0m\u001b[0;34m\u001b[0m\u001b[0m\n\u001b[0;32m----> 6\u001b[0;31m \u001b[0mfigure\u001b[0m\u001b[0;34m[\u001b[0m\u001b[0;36m0\u001b[0m\u001b[0;34m]\u001b[0m\u001b[0;34m.\u001b[0m\u001b[0mset_figheight\u001b[0m\u001b[0;34m(\u001b[0m\u001b[0;36m14\u001b[0m\u001b[0;34m)\u001b[0m\u001b[0;34m\u001b[0m\u001b[0;34m\u001b[0m\u001b[0m\n\u001b[0m\u001b[1;32m      7\u001b[0m \u001b[0mfigure\u001b[0m\u001b[0;34m.\u001b[0m\u001b[0mset_figwidth\u001b[0m\u001b[0;34m(\u001b[0m\u001b[0;36m20\u001b[0m\u001b[0;34m)\u001b[0m\u001b[0;34m\u001b[0m\u001b[0;34m\u001b[0m\u001b[0m\n\u001b[1;32m      8\u001b[0m \u001b[0mplt\u001b[0m\u001b[0;34m.\u001b[0m\u001b[0mshow\u001b[0m\u001b[0;34m(\u001b[0m\u001b[0;34m)\u001b[0m\u001b[0;34m\u001b[0m\u001b[0;34m\u001b[0m\u001b[0m\n",
      "\u001b[0;31mAttributeError\u001b[0m: 'numpy.ndarray' object has no attribute 'set_figheight'"
     ]
    },
    {
     "data": {
      "image/png": "[encoded data removed]",
      "text/plain": [
       "<Figure size 432x288 with 1 Axes>"
      ]
     },
     "metadata": {
      "needs_background": "light"
     },
     "output_type": "display_data"
    }
   ],
   "source": [
    "# plot histogram\n",
    "figure= plt.hist(corr_rts, 20)\n",
    "plt.xlabel(\"Quantity of subjects\")\n",
    "plt.ylabel(\"Average RT on correct answers (ms)\")\n",
    "plt.xticks(np.arange(0, 30000, 2500))\n",
    "figure.set_figheight(14)\n",
    "figure.set_figwidth(20)\n",
    "plt.show()"
   ]
  },
  {
   "cell_type": "code",
   "execution_count": 31,
   "id": "66a49c9d-3ba5-4e06-a36f-69965ab38d8a",
   "metadata": {},
   "outputs": [
    {
     "data": {
      "image/png": "[encoded data removed]",
      "text/plain": [
       "<Figure size 360x360 with 1 Axes>"
      ]
     },
     "metadata": {
      "needs_background": "light"
     },
     "output_type": "display_data"
    }
   ],
   "source": [
    "# reference: https://stackoverflow.com/questions/33203645/how-to-plot-a-histogram-using-matplotlib-in-python-with-a-list-of-data\n",
    "import seaborn as sns\n",
    "sns.displot(corr_rts, bins=82, kde=True)"
   ]
  },
  {
   "cell_type": "code",
   "execution_count": null,
   "id": "40c6fafa-24c2-4552-8f86-a89271f76f6f",
   "metadata": {},
   "outputs": [],
   "source": []
  }
 ],
 "metadata": {
  "kernelspec": {
   "display_name": "jor",
   "language": "python",
   "name": "jor"
  },
  "language_info": {
   "codemirror_mode": {
    "name": "ipython",
    "version": 3
   },
   "file_extension": ".py",
   "mimetype": "text/x-python",
   "name": "python",
   "nbconvert_exporter": "python",
   "pygments_lexer": "ipython3",
   "version": "3.8.8"
  }
 },
 "nbformat": 4,
 "nbformat_minor": 5
}
