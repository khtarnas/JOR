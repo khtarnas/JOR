{
 "cells": [
  {
   "cell_type": "code",
   "execution_count": 27,
   "metadata": {},
   "outputs": [],
   "source": [
    "import matplotlib.pyplot as plt\n",
    "import numpy as np\n",
    "import pandas as pd\n",
    "import math"
   ]
  },
  {
   "cell_type": "code",
   "execution_count": 28,
   "metadata": {},
   "outputs": [],
   "source": [
    "def compute_ave_corr_for_comps(data_frame, comparisons):\n",
    "    def compute_ave(data_frame, comp):\n",
    "        ordered = data_frame[data_frame['left_comp_type'] == comp[0]]\n",
    "        ordered = ordered[ordered['right_comp_type'] == comp[1]]\n",
    "        inverse = data_frame[data_frame['left_comp_type'] == comp[1]]\n",
    "        inverse = inverse[inverse['right_comp_type'] == comp[0]]\n",
    "        temp = pd.concat([ordered, inverse])\n",
    "        corr = temp[temp['correct_side'] == temp['chosen_side']]\n",
    "        proportion = (len(corr)) / len(temp)\n",
    "        return proportion\n",
    "    proportion_correct = 0\n",
    "    \n",
    "    for i in comparisons:\n",
    "        proportion_correct += compute_ave(data_frame, i)\n",
    "        \n",
    "    return proportion_correct / len(comparisons)"
   ]
  },
  {
   "cell_type": "code",
   "execution_count": 29,
   "metadata": {},
   "outputs": [],
   "source": [
    "def make_graph(data_frame):\n",
    "    comparisons = [(0, 2), (0, 4), (0, 16), (0, 68), (0, \"many\"), (2, 4), (2, 16), (2, 68), (2, \"many\"), (4, 16), (4, 68), (4, \"many\"), (16, 68), (16, \"many\"), (68, \"many\")]\n",
    "    distances = [0, 2, 4, 16, 68, 'many']\n",
    "    # For different graph look reverse distances list (make sure to alter elif statment in graph_for_distance func)\n",
    "    distances.reverse()\n",
    "    zero_placing = 8\n",
    "\n",
    "    def average_for_comp(data_frame, comp):\n",
    "        ordered = data_frame[data_frame['left_comp_type'] == comp[0]]\n",
    "        ordered = ordered[ordered['right_comp_type'] == comp[1]]\n",
    "        inverse = data_frame[data_frame['left_comp_type'] == comp[1]]\n",
    "        inverse = inverse[inverse['right_comp_type'] == comp[0]]\n",
    "        temp = pd.concat([ordered, inverse])\n",
    "        corr = temp[temp['correct_side'] == temp['chosen_side']]\n",
    "        proportion = (len(corr)) / len(temp)\n",
    "        return proportion\n",
    "\n",
    "    def graph_for_distance(index, comparisons, distances, data_frame, zp):\n",
    "        # for each comparison for this distance (i.e. 4 and 16) add the average to the y array in order (FOR COMP = DISTANCE, set to 0.5)\n",
    "        y = []\n",
    "        for i in range(len(distances)):\n",
    "            if i == index:\n",
    "                y.append(0.5)\n",
    "            # Switch sign if distances list is reversed\n",
    "            elif i > distances.index(distances[index]):\n",
    "                y.append(average_for_comp(data_frame, [distances[index], distances[i]]))\n",
    "            else:\n",
    "                y.append(average_for_comp(data_frame, [distances[i], distances[index]]))\n",
    "        x = [1, 2, 3, 4, 5, zp]\n",
    "\n",
    "        # graph the line:\n",
    "        color = 'black'\n",
    "        marker = 'o'\n",
    "\n",
    "        #colors = ['black', 'm', 'blue', 'green', 'gold', 'tomato']\n",
    "        colors = ['black', 'gray', 'black', 'gray', 'black', 'gray']\n",
    "        color = colors[index]\n",
    "        #markers = ['o', 'v', 's', 'P', 'd', 'X' ]\n",
    "        #marker = markers[index]\n",
    "        linestyles = ['-', '--', '-', '--', '-', '--',]\n",
    "        linestyle = linestyles[index]\n",
    "\n",
    "        for i in range(len(y)):\n",
    "            # can switch sign for different graph look\n",
    "            if i < index:\n",
    "                y[i] = 1 - y[i]\n",
    "\n",
    "        # Graph line\n",
    "        ax.plot(x, y, clip_on = False, linestyle = linestyle, color = color, marker = marker, label=distances[index])\n",
    "        plt.text(x[index],\n",
    "                 y[index],\n",
    "                 '  ' + str(distances[index]),\n",
    "                 verticalalignment = 'top')\n",
    "\n",
    "    fig, ax = plt.subplots()\n",
    "    plt.title('Cross Category Recency Judgements')\n",
    "    plt.ylabel(\"Probability of Judging 'A' More Recent\")\n",
    "    plt.xlabel(\"Cards Since 'A'\")\n",
    "    #plt.xticks(range(0, len(distances)))\n",
    "    plt.ylim(0, 1)\n",
    "    plt.yticks(np.linspace(0,1,5))\n",
    "    plt.xlim(0.6, zero_placing+0.4)\n",
    "    plt.xticks([1, 2, 3, 4, 5, zero_placing], distances)\n",
    "    ax.yaxis.set_ticks_position('both')\n",
    "\n",
    "    for i in range(len(distances)):\n",
    "        graph_for_distance(i, comparisons, distances, data_frame, zero_placing)\n",
    "        ax.plot([1, 2, 3, 4, 5, zero_placing],\n",
    "                [0.5, 0.5, 0.5, 0.5, 0.5, 0.5],\n",
    "                marker = '.',\n",
    "                color = 'white',\n",
    "                linestyle = 'None')\n",
    "\n",
    "    plt.text(zero_placing - 0.575, 0.325, 'Cards')\n",
    "    plt.text(zero_placing - 0.675, 0.275, \"Since 'B'\")\n",
    "    plt.show()"
   ]
  },
  {
   "cell_type": "code",
   "execution_count": 30,
   "metadata": {},
   "outputs": [],
   "source": [
    "%store -r before_score_removal\n",
    "data_frame = before_score_removal"
   ]
  },
  {
   "cell_type": "code",
   "execution_count": null,
   "metadata": {},
   "outputs": [],
   "source": [
    "criteria_count = 0\n",
    "for i in data_frame['uniqueid'].unique():\n",
    "    df = data_frame[data_frame['uniqueid'] == i]\n",
    "    zeros = compute_ave_corr_for_comps(df, [(0, 2), (0, 4), (0, 16), (0, 68), (0, \"many\")])\n",
    "    twos = compute_ave_corr_for_comps(df, [(0, 2), (2, 4), (2, 16), (2, 68), (2, \"many\")])\n",
    "    fours = compute_ave_corr_for_comps(df, [(0, 4), (2, 4), (4, 16), (4, 68), (4, \"many\")])\n",
    "    sixteens = compute_ave_corr_for_comps(df, [(0, 16), (2, 16), (4, 16), (16, 68), (16, \"many\")])\n",
    "    sixtyfours = compute_ave_corr_for_comps(df, [(0, 68), (2, 68), (4, 68), (16, 68), (68, \"many\")])\n",
    "    manys = compute_ave_corr_for_comps(df, [(0, \"many\"), (2, \"many\"), (4, \"many\"), (16, \"many\"), (68, \"many\")])\n",
    "    all_comps = compute_ave_corr_for_comps(df, [(0, 2), (0, 4), (0, 16), (0, 68), (0, \"many\"), (2, 4), (2, 16), (2, 68), (2, \"many\"), (4, 16), (4, 68), (4, \"many\"), (16, 68), (16, \"many\"), (68, \"many\")])\n",
    "    if (zeros < 0.875 or twos < 0.65 or fours < 0.6 or sixteens < 0.6 or sixtyfours < 0.65 or manys < 0.7 or all_comps > 0.95):\n",
    "        criteria_count += 1\n",
    "        data_frame = data_frame.drop(df.index)\n",
    "\n",
    "criteria_count"
   ]
  },
  {
   "cell_type": "code",
   "execution_count": null,
   "metadata": {},
   "outputs": [],
   "source": [
    "make_graph(data_frame)\n",
    "'''\n",
    "zeros < 0.9 or twos < 0.7 or fours < 0.65 or sixteens < 0.65 or sixtyfours < 0.65 or manys < 0.75 or all_comps > 0.95: 250\n",
    "zeros < 0.875 or twos < 0.65 or fours < 0.6 or sixteens < 0.6 or sixtyfours < 0.65 or manys < 0.7 or all_comps > 0.95: 199 (graph still looks beautiful)\n",
    "zeros < 0.85 or twos < 0.6 or fours < 0.6 or sixteens < 0.6 or sixtyfours < 0.6 or manys < 0.7 or all_comps > 0.975: 170 (graph still looking finnnnne as hell)\n",
    "zeros < 0.80 or twos < 0.6 or fours < 0.55 or sixteens < 0.55 or sixtyfours < 0.6 or manys < 0.65 or all_comps > 0.98: 147 (looks good still)\n",
    "\n",
    "'''"
   ]
  },
  {
   "cell_type": "markdown",
   "metadata": {},
   "source": [
    "# Find graphs with average 0 of above 10%\n",
    "# Find graphs with average \"many\" of \n",
    "'''\n",
    "count = 0\n",
    "\n",
    "for i in ['uniqueid'].unique():\n",
    "    count += 1\n",
    "    print(i)\n",
    "    print(compute_ave_corr_for_comps(data_frame[data_frame['uniqueid'] == i], [(0, 2), (0, 4), (0, 16), (0, 68), (0, \"many\")]))\n",
    "    make_graph(data_frame[data_frame['uniqueid'] == i])\n",
    "\n",
    "print(count)\n",
    "'''"
   ]
  },
  {
   "cell_type": "markdown",
   "metadata": {},
   "source": [
    "# Graphs that would be eliminated with a 90% 0-comparison threshold\n",
    "count = 0\n",
    "for i in data_frame['uniqueid'].unique():\n",
    "    val = compute_ave_corr_for_comps(data_frame[data_frame['uniqueid'] == i], [(0, 2), (0, 4), (0, 16), (0, 68), (0, \"many\")])\n",
    "    if (val < 0.9):\n",
    "        count += 1\n",
    "        print(val)\n",
    "        print(i)\n",
    "        make_graph(data_frame[data_frame['uniqueid'] == i])\n",
    "\n",
    "print(count)"
   ]
  },
  {
   "cell_type": "markdown",
   "metadata": {},
   "source": [
    "# Graphs that would be eliminated with a __ many-comparison threshold\n",
    "count = 0\n",
    "for i in data_frame['uniqueid'].unique():\n",
    "    val = compute_ave_corr_for_comps(data_frame[data_frame['uniqueid'] == i], [(0, \"many\"), (2, \"many\"), (4, \"many\"), (16, \"many\"), (68, \"many\")])\n",
    "    if (val < 0.75):\n",
    "        count += 1\n",
    "        print(val)\n",
    "        print(i)\n",
    "        make_graph(data_frame[data_frame['uniqueid'] == i])\n",
    "\n",
    "print(count)"
   ]
  },
  {
   "cell_type": "markdown",
   "metadata": {},
   "source": [
    "# Graphs that would be eliminated with a __ 2-comparison threshold, 6 for over 90% -- good looking data\n",
    "count = 0\n",
    "for i in data_frame['uniqueid'].unique():\n",
    "    val = compute_ave_corr_for_comps(data_frame[data_frame['uniqueid'] == i], [(0, 2), (2, 4), (2, 16), (2, 68), (2, \"many\")])\n",
    "    if (val < 0.7):\n",
    "        count += 1\n",
    "        print(val)\n",
    "        print(i)\n",
    "        make_graph(data_frame[data_frame['uniqueid'] == i])\n",
    "\n",
    "print(count)"
   ]
  },
  {
   "cell_type": "markdown",
   "metadata": {},
   "source": [
    "# Graphs that would be eliminated with a __ 4-comparison threshold, 5 below 70% correct\n",
    "\n",
    "count = 0\n",
    "for i in data_frame['uniqueid'].unique():\n",
    "    val = compute_ave_corr_for_comps(data_frame[data_frame['uniqueid'] == i], [(0, 4), (2, 4), (4, 16), (4, 68), (4, \"many\")])\n",
    "    if (val < 0.65):\n",
    "        count += 1\n",
    "        print(val)\n",
    "        print(i)\n",
    "        make_graph(data_frame[data_frame['uniqueid'] == i])\n",
    "\n",
    "print(count)"
   ]
  },
  {
   "cell_type": "markdown",
   "metadata": {},
   "source": [
    "# Graphs that would be eliminated with a __ 16-comparison threshold,  below 70% correct\n",
    "\n",
    "count = 0\n",
    "for i in data_frame['uniqueid'].unique():\n",
    "    val = compute_ave_corr_for_comps(data_frame[data_frame['uniqueid'] == i], [(0, 16), (2, 16), (4, 16), (16, 68), (16, \"many\")])\n",
    "    if (val < 0.65):\n",
    "        count += 1\n",
    "        print(val)\n",
    "        print(i)\n",
    "        make_graph(data_frame[data_frame['uniqueid'] == i])\n",
    "\n",
    "print(count)"
   ]
  },
  {
   "cell_type": "markdown",
   "metadata": {},
   "source": [
    "# Graphs that would be eliminated with a __ 68-comparison threshold,  below 70% correct\n",
    "\n",
    "count = 0\n",
    "for i in data_frame['uniqueid'].unique():\n",
    "    val = compute_ave_corr_for_comps(data_frame[data_frame['uniqueid'] == i], [(0, 68), (2, 68), (4, 68), (16, 68), (68, \"many\")])\n",
    "    if (val < 0.65):\n",
    "        count += 1\n",
    "        print(val)\n",
    "        print(i)\n",
    "        make_graph(data_frame[data_frame['uniqueid'] == i])\n",
    "\n",
    "print(count)"
   ]
  },
  {
   "cell_type": "code",
   "execution_count": null,
   "metadata": {},
   "outputs": [],
   "source": []
  }
 ],
 "metadata": {
  "kernelspec": {
   "display_name": "jor",
   "language": "python",
   "name": "jor"
  },
  "language_info": {
   "codemirror_mode": {
    "name": "ipython",
    "version": 3
   },
   "file_extension": ".py",
   "mimetype": "text/x-python",
   "name": "python",
   "nbconvert_exporter": "python",
   "pygments_lexer": "ipython3",
   "version": "3.8.8"
  }
 },
 "nbformat": 4,
 "nbformat_minor": 4
}
