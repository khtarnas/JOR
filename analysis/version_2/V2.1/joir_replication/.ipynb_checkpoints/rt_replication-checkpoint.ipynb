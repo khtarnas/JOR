{
 "cells": [
  {
   "cell_type": "code",
   "execution_count": 1,
   "metadata": {},
   "outputs": [],
   "source": [
    "import matplotlib.pyplot as plt\n",
    "import numpy as np\n",
    "import pandas as pd\n",
    "import math\n",
    "from scipy import stats"
   ]
  },
  {
   "cell_type": "code",
   "execution_count": 2,
   "metadata": {},
   "outputs": [],
   "source": [
    "import warnings\n",
    "warnings.filterwarnings(\"ignore\")"
   ]
  },
  {
   "cell_type": "code",
   "execution_count": 3,
   "metadata": {},
   "outputs": [],
   "source": [
    "%store -r data_frame_2_1\n",
    "df = data_frame_2_1"
   ]
  },
  {
   "cell_type": "code",
   "execution_count": 4,
   "metadata": {},
   "outputs": [],
   "source": [
    "first_distances = [4, 6, 8, 10, 14, 18, 22, 28, 34]\n",
    "second_distances = [6, 8, 10, 16, 22, 30, 40]\n",
    "comparisons = [ [4,6], [4,8], [4,10], [4,16], [4,22], [4,30], [4,40], [6,8], [6,10], [6,16], [6,22], [6,30], [6,40], [8,10], [8,16], [8,22], [8,30], [8,40],\n",
    "    [10,16], [10,22], [10,30], [10,40], [14,16], [14,22], [14,30], [14,40], [18,22], [18,30], [18,40], [22,30], [22,40], [28,30], [28,40], [34,40] ]"
   ]
  },
  {
   "cell_type": "code",
   "execution_count": 5,
   "metadata": {},
   "outputs": [
    {
     "data": {
      "text/plain": [
       "117"
      ]
     },
     "execution_count": 5,
     "metadata": {},
     "output_type": "execute_result"
    }
   ],
   "source": [
    "len(data_frame_2_1['uniqueid'].unique())"
   ]
  },
  {
   "cell_type": "code",
   "execution_count": 6,
   "metadata": {},
   "outputs": [],
   "source": [
    "'''\n",
    "Recreating the accuracy graph from the JOI vs JOR paper by Mark Howard\n",
    "\n",
    "Takes in a specified pandas dataframe with the correct fields from\n",
    "the JOR v1.0 or v1.1 experiment and outputs a correctness graph in the\n",
    "manner of the JOI vs JOR paper.\n",
    "'''\n",
    "def recreate_rt_graph(df, comparisons, first_distances, second_distances):\n",
    "\n",
    "    '''\n",
    "    '''\n",
    "    def average_for_comp(df, comp):\n",
    "        ordered = df[df['left_comp_type'] == comp[0]]\n",
    "        ordered = ordered[ordered['right_comp_type'] == comp[1]]\n",
    "        inverse = df[df['left_comp_type'] == comp[1]]\n",
    "        inverse = inverse[inverse['right_comp_type'] == comp[0]]\n",
    "        temp = pd.concat([ordered, inverse])\n",
    "        corr = temp[temp['correct_side'] == temp['chosen_side']]\n",
    "        rt = corr['rt'].mean()\n",
    "        return rt\n",
    "    \n",
    "    \n",
    "    '''\n",
    "    NOTE: this is standard error of the mean over subjects\n",
    "    '''\n",
    "    def ste_for_comp(df, comp):\n",
    "        \n",
    "        means = []\n",
    "        for i in df['uniqueid'].unique():\n",
    "            temp_df = df[df['uniqueid'] == i]\n",
    "            means.append(average_for_comp(temp_df, comp))\n",
    "        \n",
    "        return stats.sem(means)\n",
    "    \n",
    "    '''\n",
    "    '''\n",
    "    def graph_for_distance(more_recent_item, second_distances, df):\n",
    "        y = []\n",
    "        x = []\n",
    "        yerr = []\n",
    "        \n",
    "        # For each second distance, if it is larger than the given first distance, calculate\n",
    "        for i in range(len(second_distances)):\n",
    "            if more_recent_item < second_distances[i]:\n",
    "                x.append(second_distances[i])\n",
    "                y.append(average_for_comp(df, [more_recent_item, second_distances[i]]))\n",
    "                yerr.append(ste_for_comp(df, [more_recent_item, second_distances[i]]))\n",
    "\n",
    "        x = np.array(x)\n",
    "        y = np.array(y)\n",
    "        yerr = np.array(yerr)\n",
    "        \n",
    "        # graph the line:\n",
    "        color = 'black'\n",
    "        marker = 'o'\n",
    "\n",
    "        #colors = ['lightgray', 'silver', 'darkgrey', 'gray', 'dimgrey', 'black']\n",
    "        #color = colors[more_recent_item]\n",
    "        #markers = ['o', 'v', 's', 'P', 'd', 'X' ]\n",
    "        #marker = markers[index]\n",
    "\n",
    "        # Graph line\n",
    "        #ax.plot(x, y, clip_on = False, color = color, marker = marker, label=distances[more_recent_item])\n",
    "        #ax.fill_between(x, y-yerr, y+yerr, alpha=0.7, edgecolor=color, facecolor=color)\n",
    "        ax.errorbar(x, y, yerr=yerr, clip_on = False, marker = marker, label=more_recent_item)\n",
    "\n",
    "    fig, ax = plt.subplots()\n",
    "    #plt.ylim(0, 1)\n",
    "    plt.title('Response Time In Cross Category Judgments')\n",
    "    plt.ylabel('Response Time (ms)')\n",
    "    plt.xlabel('Lag to the less recent probe')\n",
    "    ax.yaxis.set_ticks_position('both')\n",
    "    \n",
    "    for i in first_distances:\n",
    "        graph_for_distance(i, second_distances, df)\n",
    "        \n",
    "    lgd = plt.legend(title = 'Lag to the more\\n  recent probe', fancybox=True, bbox_to_anchor=(1.32, 1))\n",
    "    plt.savefig('joir_rt_mimic_2_1.pdf', format='pdf', dpi=1200, bbox_extra_artists=[lgd], bbox_inches='tight')\n",
    "    plt.show()"
   ]
  },
  {
   "cell_type": "code",
   "execution_count": null,
   "metadata": {},
   "outputs": [],
   "source": [
    "recreate_rt_graph(df, comparisons, first_distances, second_distances)"
   ]
  },
  {
   "cell_type": "code",
   "execution_count": null,
   "metadata": {},
   "outputs": [],
   "source": []
  }
 ],
 "metadata": {
  "kernelspec": {
   "display_name": "jor",
   "language": "python",
   "name": "jor"
  },
  "language_info": {
   "codemirror_mode": {
    "name": "ipython",
    "version": 3
   },
   "file_extension": ".py",
   "mimetype": "text/x-python",
   "name": "python",
   "nbconvert_exporter": "python",
   "pygments_lexer": "ipython3",
   "version": "3.8.8"
  }
 },
 "nbformat": 4,
 "nbformat_minor": 4
}
