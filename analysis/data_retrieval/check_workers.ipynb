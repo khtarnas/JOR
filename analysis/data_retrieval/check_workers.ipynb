{
 "cells": [
  {
   "cell_type": "code",
   "execution_count": 28,
   "metadata": {},
   "outputs": [],
   "source": [
    "from sqlalchemy import create_engine, MetaData, Table\n",
    "import json\n",
    "import pandas as pd"
   ]
  },
  {
   "cell_type": "code",
   "execution_count": 29,
   "metadata": {},
   "outputs": [],
   "source": [
    "import warnings\n",
    "warnings.filterwarnings(\"ignore\")"
   ]
  },
  {
   "cell_type": "code",
   "execution_count": 30,
   "metadata": {},
   "outputs": [],
   "source": [
    "db_url = \"...\"\n",
    "table_name = \"JOR\""
   ]
  },
  {
   "cell_type": "code",
   "execution_count": 31,
   "metadata": {},
   "outputs": [],
   "source": [
    "data_column_name = 'datastring'\n",
    "\n",
    "# boilerplace sqlalchemy setup\n",
    "engine = create_engine(db_url)\n",
    "metadata = MetaData()\n",
    "metadata.bind = engine\n",
    "table = Table(table_name, metadata, autoload=True)\n",
    "\n",
    "# make a query and loop through\n",
    "s = table.select()"
   ]
  },
  {
   "cell_type": "code",
   "execution_count": 32,
   "metadata": {},
   "outputs": [],
   "source": [
    "rows = s.execute()"
   ]
  },
  {
   "cell_type": "raw",
   "metadata": {},
   "source": [
    "# Status codes\n",
    "NOT_ACCEPTED = 0\n",
    "ALLOCATED = 1\n",
    "STARTED = 2\n",
    "COMPLETED = 3\n",
    "SUBMITTED = 4\n",
    "CREDITED = 5\n",
    "QUITEARLY = 6\n",
    "BONUSED = 7"
   ]
  },
  {
   "cell_type": "code",
   "execution_count": 33,
   "metadata": {},
   "outputs": [],
   "source": [
    "#status codes of subjects who completed experiment\n",
    "statuses=[0,1,2,3,4,5,6,7]\n",
    "\n",
    "# exclusively these workerids\n",
    "workerids = [\"A1QUQ0TV9KVD4C\"]"
   ]
  },
  {
   "cell_type": "code",
   "execution_count": 34,
   "metadata": {},
   "outputs": [],
   "source": [
    "data = []\n",
    "conditions = []\n",
    "\n",
    "for row in rows:\n",
    "    # only use subjects who completed experiment and aren't excluded\n",
    "    if (row['status'] in statuses) and (row['workerid'] in workerids):\n",
    "        conditions.append({\n",
    "                'uniqueid': row['uniqueid'],\n",
    "                'beginhit': row['beginhit'],\n",
    "                'endhit': row['endhit'],\n",
    "                'status': row['status'],\n",
    "                'counterbalance': row['counterbalance'],\n",
    "                'workerid': row['workerid'],\n",
    "                'codeversion': row['codeversion']\n",
    "            })\n",
    "        data.append(row[data_column_name])"
   ]
  },
  {
   "cell_type": "code",
   "execution_count": 40,
   "metadata": {},
   "outputs": [
    {
     "data": {
      "text/html": [
       "<div>\n",
       "<style scoped>\n",
       "    .dataframe tbody tr th:only-of-type {\n",
       "        vertical-align: middle;\n",
       "    }\n",
       "\n",
       "    .dataframe tbody tr th {\n",
       "        vertical-align: top;\n",
       "    }\n",
       "\n",
       "    .dataframe thead th {\n",
       "        text-align: right;\n",
       "    }\n",
       "</style>\n",
       "<table border=\"1\" class=\"dataframe\">\n",
       "  <thead>\n",
       "    <tr style=\"text-align: right;\">\n",
       "      <th></th>\n",
       "      <th>uniqueid</th>\n",
       "      <th>beginhit</th>\n",
       "      <th>endhit</th>\n",
       "      <th>status</th>\n",
       "      <th>counterbalance</th>\n",
       "      <th>workerid</th>\n",
       "      <th>codeversion</th>\n",
       "    </tr>\n",
       "  </thead>\n",
       "  <tbody>\n",
       "    <tr>\n",
       "      <th>0</th>\n",
       "      <td>A1QUQ0TV9KVD4C:3DL65MZB8EMN1MVMTLR3CLOF4WQCED</td>\n",
       "      <td>2022-03-21 20:19:02</td>\n",
       "      <td>None</td>\n",
       "      <td>6</td>\n",
       "      <td>26</td>\n",
       "      <td>A1QUQ0TV9KVD4C</td>\n",
       "      <td>2.1</td>\n",
       "    </tr>\n",
       "  </tbody>\n",
       "</table>\n",
       "</div>"
      ],
      "text/plain": [
       "                                        uniqueid            beginhit endhit  \\\n",
       "0  A1QUQ0TV9KVD4C:3DL65MZB8EMN1MVMTLR3CLOF4WQCED 2022-03-21 20:19:02   None   \n",
       "\n",
       "   status  counterbalance        workerid codeversion  \n",
       "0       6              26  A1QUQ0TV9KVD4C         2.1  "
      ]
     },
     "execution_count": 40,
     "metadata": {},
     "output_type": "execute_result"
    }
   ],
   "source": [
    "condition_frame = pd.DataFrame(conditions)\n",
    "condition_frame.sort_values('beginhit')"
   ]
  },
  {
   "cell_type": "code",
   "execution_count": 36,
   "metadata": {},
   "outputs": [],
   "source": [
    "# Now we have all participant datastrings in a list.\n",
    "# Let's make it a bit easier to work with:\n",
    "\n",
    "# parse each participant's datastring as json object\n",
    "# and take the 'data' sub-object\n",
    "subject_data = []\n",
    "for subject_json in data:\n",
    "    try:\n",
    "        subject_dict = json.loads(subject_json)\n",
    "        subject_data.append(subject_dict['data'])\n",
    "    except:\n",
    "        continue"
   ]
  },
  {
   "cell_type": "code",
   "execution_count": 37,
   "metadata": {},
   "outputs": [],
   "source": [
    "# insert uniqueid field into trialdata in case it wasn't added\n",
    "# in experiment:\n",
    "for part in subject_data:\n",
    "    for record in part:\n",
    "        record['trialdata']['uniqueid'] = record['uniqueid']"
   ]
  },
  {
   "cell_type": "code",
   "execution_count": 38,
   "metadata": {},
   "outputs": [],
   "source": [
    "# flatten nested list so we just have a list of the trialdata recorded\n",
    "# each time psiturk.recordTrialData(trialdata) was called.\n",
    "trialdata = []\n",
    "for part in subject_data:\n",
    "    for record in part:\n",
    "        trialdata.append(record['trialdata'])"
   ]
  },
  {
   "cell_type": "code",
   "execution_count": 39,
   "metadata": {},
   "outputs": [
    {
     "data": {
      "text/html": [
       "<div>\n",
       "<style scoped>\n",
       "    .dataframe tbody tr th:only-of-type {\n",
       "        vertical-align: middle;\n",
       "    }\n",
       "\n",
       "    .dataframe tbody tr th {\n",
       "        vertical-align: top;\n",
       "    }\n",
       "\n",
       "    .dataframe thead th {\n",
       "        text-align: right;\n",
       "    }\n",
       "</style>\n",
       "<table border=\"1\" class=\"dataframe\">\n",
       "  <thead>\n",
       "    <tr style=\"text-align: right;\">\n",
       "      <th></th>\n",
       "      <th>rt</th>\n",
       "      <th>responses</th>\n",
       "      <th>type</th>\n",
       "      <th>trial_type</th>\n",
       "      <th>trial_index</th>\n",
       "      <th>time_elapsed</th>\n",
       "      <th>internal_node_id</th>\n",
       "      <th>uniqueid</th>\n",
       "      <th>stimulus</th>\n",
       "      <th>key_press</th>\n",
       "      <th>button_pressed</th>\n",
       "    </tr>\n",
       "  </thead>\n",
       "  <tbody>\n",
       "    <tr>\n",
       "      <th>0</th>\n",
       "      <td>5801.2</td>\n",
       "      <td>{\"name\":\"mary\"}</td>\n",
       "      <td>NAME</td>\n",
       "      <td>survey-html-form</td>\n",
       "      <td>0</td>\n",
       "      <td>5846</td>\n",
       "      <td>0.0-0.0-0.0</td>\n",
       "      <td>A1QUQ0TV9KVD4C:3DL65MZB8EMN1MVMTLR3CLOF4WQCED</td>\n",
       "      <td>NaN</td>\n",
       "      <td>NaN</td>\n",
       "      <td>NaN</td>\n",
       "    </tr>\n",
       "    <tr>\n",
       "      <th>1</th>\n",
       "      <td>3285.0</td>\n",
       "      <td>NaN</td>\n",
       "      <td>NaN</td>\n",
       "      <td>html-keyboard-response</td>\n",
       "      <td>1</td>\n",
       "      <td>9335</td>\n",
       "      <td>0.0-1.0</td>\n",
       "      <td>A1QUQ0TV9KVD4C:3DL65MZB8EMN1MVMTLR3CLOF4WQCED</td>\n",
       "      <td>Welcome to the &lt;strong&gt;Judgment of Recency&lt;/st...</td>\n",
       "      <td></td>\n",
       "      <td>NaN</td>\n",
       "    </tr>\n",
       "    <tr>\n",
       "      <th>2</th>\n",
       "      <td>10396.0</td>\n",
       "      <td>NaN</td>\n",
       "      <td>NaN</td>\n",
       "      <td>html-button-response</td>\n",
       "      <td>2</td>\n",
       "      <td>19947</td>\n",
       "      <td>0.0-2.0-0.0</td>\n",
       "      <td>A1QUQ0TV9KVD4C:3DL65MZB8EMN1MVMTLR3CLOF4WQCED</td>\n",
       "      <td>&lt;p class='inst-justified'&gt;According to Wikiped...</td>\n",
       "      <td>NaN</td>\n",
       "      <td>3</td>\n",
       "    </tr>\n",
       "    <tr>\n",
       "      <th>3</th>\n",
       "      <td>1613.7</td>\n",
       "      <td>NaN</td>\n",
       "      <td>NaN</td>\n",
       "      <td>html-button-response</td>\n",
       "      <td>3</td>\n",
       "      <td>21562</td>\n",
       "      <td>0.0-2.0-1.0</td>\n",
       "      <td>A1QUQ0TV9KVD4C:3DL65MZB8EMN1MVMTLR3CLOF4WQCED</td>\n",
       "      <td>&lt;p class='inst'&gt;How often do you realize you'v...</td>\n",
       "      <td>NaN</td>\n",
       "      <td>0</td>\n",
       "    </tr>\n",
       "  </tbody>\n",
       "</table>\n",
       "</div>"
      ],
      "text/plain": [
       "        rt        responses  type              trial_type  trial_index  \\\n",
       "0   5801.2  {\"name\":\"mary\"}  NAME        survey-html-form            0   \n",
       "1   3285.0              NaN   NaN  html-keyboard-response            1   \n",
       "2  10396.0              NaN   NaN    html-button-response            2   \n",
       "3   1613.7              NaN   NaN    html-button-response            3   \n",
       "\n",
       "   time_elapsed internal_node_id  \\\n",
       "0          5846      0.0-0.0-0.0   \n",
       "1          9335          0.0-1.0   \n",
       "2         19947      0.0-2.0-0.0   \n",
       "3         21562      0.0-2.0-1.0   \n",
       "\n",
       "                                        uniqueid  \\\n",
       "0  A1QUQ0TV9KVD4C:3DL65MZB8EMN1MVMTLR3CLOF4WQCED   \n",
       "1  A1QUQ0TV9KVD4C:3DL65MZB8EMN1MVMTLR3CLOF4WQCED   \n",
       "2  A1QUQ0TV9KVD4C:3DL65MZB8EMN1MVMTLR3CLOF4WQCED   \n",
       "3  A1QUQ0TV9KVD4C:3DL65MZB8EMN1MVMTLR3CLOF4WQCED   \n",
       "\n",
       "                                            stimulus key_press button_pressed  \n",
       "0                                                NaN       NaN            NaN  \n",
       "1  Welcome to the <strong>Judgment of Recency</st...                      NaN  \n",
       "2  <p class='inst-justified'>According to Wikiped...       NaN              3  \n",
       "3  <p class='inst'>How often do you realize you'v...       NaN              0  "
      ]
     },
     "execution_count": 39,
     "metadata": {},
     "output_type": "execute_result"
    }
   ],
   "source": [
    "# Put all subjects' trial data into a dataframe object from the\n",
    "# 'pandas' python library: one option among many for analysis\n",
    "df = pd.DataFrame(trialdata)\n",
    "df"
   ]
  },
  {
   "cell_type": "code",
   "execution_count": null,
   "metadata": {},
   "outputs": [],
   "source": []
  }
 ],
 "metadata": {
  "kernelspec": {
   "display_name": "base",
   "language": "python",
   "name": "python3"
  },
  "language_info": {
   "codemirror_mode": {
    "name": "ipython",
    "version": 3
   },
   "file_extension": ".py",
   "mimetype": "text/x-python",
   "name": "python",
   "nbconvert_exporter": "python",
   "pygments_lexer": "ipython3",
   "version": "3.8.3 (default, Jul  2 2020, 11:26:31) \n[Clang 10.0.0 ]"
  },
  "vscode": {
   "interpreter": {
    "hash": "5acbd729419d4ea191f47d578241fedaf7e57638013c4e4fc53acefaa95c16d3"
   }
  }
 },
 "nbformat": 4,
 "nbformat_minor": 4
}
