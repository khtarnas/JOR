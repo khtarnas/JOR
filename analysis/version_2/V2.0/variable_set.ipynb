{
 "cells": [
  {
   "cell_type": "code",
   "execution_count": 13,
   "metadata": {},
   "outputs": [],
   "source": [
    "%store -r data_frame\n",
    "df = data_frame\n",
    "import numpy as np\n",
    "import pandas as pd"
   ]
  },
  {
   "cell_type": "code",
   "execution_count": 14,
   "metadata": {},
   "outputs": [],
   "source": [
    "'''\n",
    "Function that checks whether or not a list exists in a list of lists\n",
    "'''\n",
    "def list_present(toplist, sublist):\n",
    "    for i in toplist:\n",
    "        if sublist == i:\n",
    "            return True\n",
    "    return False"
   ]
  },
  {
   "cell_type": "code",
   "execution_count": 15,
   "metadata": {},
   "outputs": [],
   "source": [
    "def mergesort(l):\n",
    "    \n",
    "    length = len(l)\n",
    "    if length <= 1:\n",
    "        return l\n",
    "    \n",
    "    else:\n",
    "        first = mergesort(l[:length//2])\n",
    "        second = mergesort(l[length//2:])\n",
    "        i = j = 0\n",
    "        s = [] #new sorted array\n",
    "        \n",
    "        # Merge by comparing the smallest (unused) elements in each list\n",
    "        while i < len(first) and j < len(second):\n",
    "            if first[i] <= second[j]:\n",
    "                s.append(first[i])\n",
    "                i += 1\n",
    "            else:\n",
    "                s.append(second[j])\n",
    "                j += 1\n",
    "        \n",
    "        # Add in all remaining elements from 'first'\n",
    "        while i < len(first):\n",
    "            s.append(first[i])\n",
    "            i += 1\n",
    "        \n",
    "        # Add in all remaining elements from 'second'\n",
    "        while j < len(second):\n",
    "            s.append(second[j])\n",
    "            j += 1\n",
    "\n",
    "        return s"
   ]
  },
  {
   "cell_type": "code",
   "execution_count": 16,
   "metadata": {},
   "outputs": [
    {
     "name": "stdout",
     "output_type": "stream",
     "text": [
      "[[16, 68], [0, 2], [0, 'many'], [2, 16], [68, 'many'], [0, 4], [4, 'many'], [2, 'many'], [0, 16], [16, 'many'], [2, 4], [0, 68], [4, 16], [4, 68], [2, 68]]\n"
     ]
    }
   ],
   "source": [
    "comparisons = []\n",
    "for x in list(df['comparison_type']):\n",
    "    if type(x) == list:\n",
    "        if not list_present(comparisons, x):\n",
    "            comparisons.append(x)\n",
    "print(comparisons)"
   ]
  },
  {
   "cell_type": "code",
   "execution_count": 17,
   "metadata": {},
   "outputs": [],
   "source": [
    "#Sort by the separation between comparisons, if separation is the same, sort by most recent\n",
    "def separation_sort(comps):\n",
    "    sep = []\n",
    "    for i in comps:\n",
    "        #print(i)\n",
    "        if len(sep) == 0:\n",
    "            sep.append(i)\n",
    "        else:\n",
    "            temp = sep.copy()\n",
    "            for idx, j in enumerate(sep):\n",
    "                #print('before')\n",
    "                #print(temp)\n",
    "                if (i[1] - i[0]) < (j[1] - j[0]): #if the new separation is less than the one in this position in sep\n",
    "                    temp.insert(idx, i)\n",
    "                    #print('less than')\n",
    "                    #print(temp)\n",
    "                    break\n",
    "                elif (i[1] - i[0]) == (j[1] - j[0]):#else if same, check first val\n",
    "                    if (i[0] < j[0]):\n",
    "                        temp.insert(idx, i)\n",
    "                        #print('equal then less than')\n",
    "                        #print(temp)\n",
    "                        break\n",
    "                elif (idx == len(sep) - 1):\n",
    "                    temp.append(i)\n",
    "                    break\n",
    "            sep = temp.copy()\n",
    "            #print(sep)\n",
    "    return sep"
   ]
  },
  {
   "cell_type": "code",
   "execution_count": 18,
   "metadata": {},
   "outputs": [
    {
     "ename": "TypeError",
     "evalue": "unsupported operand type(s) for -: 'str' and 'int'",
     "output_type": "error",
     "traceback": [
      "\u001b[0;31m---------------------------------------------------------------------------\u001b[0m",
      "\u001b[0;31mTypeError\u001b[0m                                 Traceback (most recent call last)",
      "\u001b[0;32m<ipython-input-18-d6e29c957ae3>\u001b[0m in \u001b[0;36m<module>\u001b[0;34m\u001b[0m\n\u001b[0;32m----> 1\u001b[0;31m \u001b[0mcomparisons\u001b[0m \u001b[0;34m=\u001b[0m \u001b[0mseparation_sort\u001b[0m\u001b[0;34m(\u001b[0m\u001b[0mcomparisons\u001b[0m\u001b[0;34m)\u001b[0m\u001b[0;34m\u001b[0m\u001b[0;34m\u001b[0m\u001b[0m\n\u001b[0m",
      "\u001b[0;32m<ipython-input-17-06486ebbb8ae>\u001b[0m in \u001b[0;36mseparation_sort\u001b[0;34m(comps)\u001b[0m\n\u001b[1;32m     11\u001b[0m                 \u001b[0;31m#print('before')\u001b[0m\u001b[0;34m\u001b[0m\u001b[0;34m\u001b[0m\u001b[0;34m\u001b[0m\u001b[0m\n\u001b[1;32m     12\u001b[0m                 \u001b[0;31m#print(temp)\u001b[0m\u001b[0;34m\u001b[0m\u001b[0;34m\u001b[0m\u001b[0;34m\u001b[0m\u001b[0m\n\u001b[0;32m---> 13\u001b[0;31m                 \u001b[0;32mif\u001b[0m \u001b[0;34m(\u001b[0m\u001b[0mi\u001b[0m\u001b[0;34m[\u001b[0m\u001b[0;36m1\u001b[0m\u001b[0;34m]\u001b[0m \u001b[0;34m-\u001b[0m \u001b[0mi\u001b[0m\u001b[0;34m[\u001b[0m\u001b[0;36m0\u001b[0m\u001b[0;34m]\u001b[0m\u001b[0;34m)\u001b[0m \u001b[0;34m<\u001b[0m \u001b[0;34m(\u001b[0m\u001b[0mj\u001b[0m\u001b[0;34m[\u001b[0m\u001b[0;36m1\u001b[0m\u001b[0;34m]\u001b[0m \u001b[0;34m-\u001b[0m \u001b[0mj\u001b[0m\u001b[0;34m[\u001b[0m\u001b[0;36m0\u001b[0m\u001b[0;34m]\u001b[0m\u001b[0;34m)\u001b[0m\u001b[0;34m:\u001b[0m \u001b[0;31m#if the new separation is less than the one in this position in sep\u001b[0m\u001b[0;34m\u001b[0m\u001b[0;34m\u001b[0m\u001b[0m\n\u001b[0m\u001b[1;32m     14\u001b[0m                     \u001b[0mtemp\u001b[0m\u001b[0;34m.\u001b[0m\u001b[0minsert\u001b[0m\u001b[0;34m(\u001b[0m\u001b[0midx\u001b[0m\u001b[0;34m,\u001b[0m \u001b[0mi\u001b[0m\u001b[0;34m)\u001b[0m\u001b[0;34m\u001b[0m\u001b[0;34m\u001b[0m\u001b[0m\n\u001b[1;32m     15\u001b[0m                     \u001b[0;31m#print('less than')\u001b[0m\u001b[0;34m\u001b[0m\u001b[0;34m\u001b[0m\u001b[0;34m\u001b[0m\u001b[0m\n",
      "\u001b[0;31mTypeError\u001b[0m: unsupported operand type(s) for -: 'str' and 'int'"
     ]
    }
   ],
   "source": [
    "comparisons = separation_sort(comparisons)"
   ]
  },
  {
   "cell_type": "code",
   "execution_count": 10,
   "metadata": {},
   "outputs": [
    {
     "data": {
      "text/plain": [
       "[]"
      ]
     },
     "execution_count": 10,
     "metadata": {},
     "output_type": "execute_result"
    }
   ],
   "source": [
    "distances = []\n",
    "for comp in comparisons:\n",
    "    distances.append(comp[0])\n",
    "    distances.append(comp[1])\n",
    "distances = list(set(distances))\n",
    "distances = mergesort(distances)\n",
    "distances"
   ]
  },
  {
   "cell_type": "code",
   "execution_count": 12,
   "metadata": {},
   "outputs": [
    {
     "name": "stdout",
     "output_type": "stream",
     "text": [
      "Stored 'comparisons' (list)\n",
      "Stored 'distances' (list)\n"
     ]
    }
   ],
   "source": [
    "# %store list_present\n",
    "# %store mergesort\n",
    "# %store separation_sort\n",
    "%store comparisons\n",
    "%store distances"
   ]
  },
  {
   "cell_type": "code",
   "execution_count": null,
   "metadata": {},
   "outputs": [],
   "source": []
  }
 ],
 "metadata": {
  "kernelspec": {
   "display_name": "jor",
   "language": "python",
   "name": "jor"
  },
  "language_info": {
   "codemirror_mode": {
    "name": "ipython",
    "version": 3
   },
   "file_extension": ".py",
   "mimetype": "text/x-python",
   "name": "python",
   "nbconvert_exporter": "python",
   "pygments_lexer": "ipython3",
   "version": "3.8.8"
  }
 },
 "nbformat": 4,
 "nbformat_minor": 4
}
