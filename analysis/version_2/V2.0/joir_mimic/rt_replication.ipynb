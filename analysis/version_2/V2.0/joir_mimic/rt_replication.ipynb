{
 "cells": [
  {
   "cell_type": "code",
   "execution_count": 1,
   "metadata": {},
   "outputs": [],
   "source": [
    "import matplotlib.pyplot as plt\n",
    "import numpy as np\n",
    "import pandas as pd\n",
    "import math\n",
    "from scipy import stats"
   ]
  },
  {
   "cell_type": "code",
   "execution_count": 2,
   "metadata": {},
   "outputs": [],
   "source": [
    "%store -r data_frame_2\n",
    "df = data_frame_2"
   ]
  },
  {
   "cell_type": "code",
   "execution_count": 3,
   "metadata": {},
   "outputs": [],
   "source": [
    "'''\n",
    "Mergesort\n",
    "'''\n",
    "def mergesort(l):\n",
    "    \n",
    "    length = len(l)\n",
    "    if length <= 1:\n",
    "        return l\n",
    "    \n",
    "    else:\n",
    "        first = mergesort(l[:length//2])\n",
    "        second = mergesort(l[length//2:])\n",
    "        i = j = 0\n",
    "        s = [] #new sorted array\n",
    "        \n",
    "        # Merge by comparing the smallest (unused) elements in each list\n",
    "        while i < len(first) and j < len(second):\n",
    "            if first[i] <= second[j]:\n",
    "                s.append(first[i])\n",
    "                i += 1\n",
    "            else:\n",
    "                s.append(second[j])\n",
    "                j += 1\n",
    "        \n",
    "        # Add in all remaining elements from 'first'\n",
    "        while i < len(first):\n",
    "            s.append(first[i])\n",
    "            i += 1\n",
    "        \n",
    "        # Add in all remaining elements from 'second'\n",
    "        while j < len(second):\n",
    "            s.append(second[j])\n",
    "            j += 1\n",
    "\n",
    "        return s"
   ]
  },
  {
   "cell_type": "code",
   "execution_count": 4,
   "metadata": {},
   "outputs": [],
   "source": [
    "'''\n",
    "Function that checks whether or not a list exists in a list of lists\n",
    "'''\n",
    "def list_present(toplist, sublist):\n",
    "    for i in toplist:\n",
    "        if sublist == i:\n",
    "            return True\n",
    "    return False"
   ]
  },
  {
   "cell_type": "code",
   "execution_count": 5,
   "metadata": {},
   "outputs": [],
   "source": [
    "comparisons = []\n",
    "for x in list(df['comparison_type']):\n",
    "    if type(x) == list:\n",
    "        if not list_present(comparisons, x):\n",
    "            comparisons.append(x)"
   ]
  },
  {
   "cell_type": "code",
   "execution_count": 6,
   "metadata": {},
   "outputs": [
    {
     "data": {
      "text/plain": [
       "[4, 6, 8, 10, 14, 18, 22, 28, 34, 40]"
      ]
     },
     "execution_count": 6,
     "metadata": {},
     "output_type": "execute_result"
    }
   ],
   "source": [
    "distances = []\n",
    "for comp in comparisons:\n",
    "    distances.append(comp[0])\n",
    "    distances.append(comp[1])\n",
    "distances = list(set(distances))\n",
    "distances = mergesort(distances)\n",
    "distances"
   ]
  },
  {
   "cell_type": "code",
   "execution_count": 7,
   "metadata": {},
   "outputs": [],
   "source": [
    "'''\n",
    "Recreating the accuracy graph from the JOI vs JOR paper by Mark Howard\n",
    "\n",
    "Takes in a specified pandas dataframe with the correct fields from\n",
    "the JOR v1.0 or v1.1 experiment and outputs a correctness graph in the\n",
    "manner of the JOI vs JOR paper.\n",
    "'''\n",
    "def recreate_accuracy_graph(df, comparisons, distances):\n",
    "\n",
    "    '''\n",
    "    '''\n",
    "    def average_for_comp(df, comp):\n",
    "        ordered = df[df['left_comp_type'] == comp[0]]\n",
    "        ordered = ordered[ordered['right_comp_type'] == comp[1]]\n",
    "        inverse = df[df['left_comp_type'] == comp[1]]\n",
    "        inverse = inverse[inverse['right_comp_type'] == comp[0]]\n",
    "        temp = pd.concat([ordered, inverse])\n",
    "        corr = temp[temp['correct_side'] == temp['chosen_side']]\n",
    "        rt = corr['rt'].mean()\n",
    "        return rt\n",
    "    \n",
    "    \n",
    "    '''\n",
    "    NOTE: this is standard error of the mean over subjects\n",
    "    '''\n",
    "    def ste_for_comp(df, comp):\n",
    "        \n",
    "        means = []\n",
    "        for i in df['uniqueid'].unique():\n",
    "            temp_df = df[df['uniqueid'] == i]\n",
    "            means.append(average_for_comp(temp_df, comp))\n",
    "        \n",
    "        return stats.sem(means)\n",
    "    \n",
    "\n",
    "    '''\n",
    "    '''\n",
    "    def graph_for_distance(more_recent_item, comparisons, distances, df):\n",
    "        y = []\n",
    "        x = []\n",
    "        yerr = []\n",
    "        for i in range(len(distances)):\n",
    "            if i < more_recent_item:\n",
    "                x.append(distances[i])\n",
    "                y.append(average_for_comp(df, [distances[more_recent_item], distances[i]]))\n",
    "                yerr.append(ste_for_comp(df, [distances[more_recent_item], distances[i]]))\n",
    "\n",
    "        x = np.array(x)\n",
    "        y = np.array(y)\n",
    "        yerr = np.array(yerr)\n",
    "        \n",
    "        # graph the line:\n",
    "        color = 'black'\n",
    "        marker = 'o'\n",
    "\n",
    "        #colors = ['lightgray', 'silver', 'darkgrey', 'gray', 'dimgrey', 'black']\n",
    "        #color = colors[more_recent_item]\n",
    "        #markers = ['o', 'v', 's', 'P', 'd', 'X' ]\n",
    "        #marker = markers[index]\n",
    "\n",
    "        # Graph line\n",
    "        #ax.plot(x, y, clip_on = False, color = color, marker = marker, label=distances[more_recent_item])\n",
    "        #ax.fill_between(x, y-yerr, y+yerr, alpha=0.7, edgecolor=color, facecolor=color)\n",
    "        ax.errorbar(x, y, yerr=yerr, clip_on = False, marker = marker, label=distances[more_recent_item])\n",
    "\n",
    "    fig, ax = plt.subplots()\n",
    "    #plt.ylim(0, 1)\n",
    "    plt.title('Response Time In Cross Category Judgments')\n",
    "    plt.ylabel('Response')\n",
    "    plt.xlabel('Lag to the less recent probe')\n",
    "    ax.yaxis.set_ticks_position('both')\n",
    "\n",
    "    for i in range(len(distances)):\n",
    "        if not distances[i] == 'many':\n",
    "            graph_for_distance(i, comparisons, distances, df)\n",
    "\n",
    "    lgd = plt.legend(title = 'Lag to the more\\n  recent probe', fancybox=True, bbox_to_anchor=(1.32, 1))\n",
    "    plt.savefig('joir_rt_mimic.pdf', format='pdf', dpi=1200, bbox_extra_artists=[lgd], bbox_inches='tight')\n",
    "    plt.show()"
   ]
  },
  {
   "cell_type": "code",
   "execution_count": 8,
   "metadata": {},
   "outputs": [
    {
     "name": "stderr",
     "output_type": "stream",
     "text": [
      "/home1/khtarnas/.conda/envs/jor/lib/python3.8/site-packages/numpy/core/_asarray.py:83: UserWarning: Warning: converting a masked element to nan.\n",
      "  return array(a, dtype, copy=False, order=order)\n",
      "/home1/khtarnas/.conda/envs/jor/lib/python3.8/site-packages/numpy/core/_asarray.py:83: UserWarning: Warning: converting a masked element to nan.\n",
      "  return array(a, dtype, copy=False, order=order)\n",
      "/home1/khtarnas/.conda/envs/jor/lib/python3.8/site-packages/numpy/core/_asarray.py:83: UserWarning: Warning: converting a masked element to nan.\n",
      "  return array(a, dtype, copy=False, order=order)\n",
      "/home1/khtarnas/.conda/envs/jor/lib/python3.8/site-packages/numpy/core/_asarray.py:83: UserWarning: Warning: converting a masked element to nan.\n",
      "  return array(a, dtype, copy=False, order=order)\n",
      "/home1/khtarnas/.conda/envs/jor/lib/python3.8/site-packages/numpy/core/_asarray.py:83: UserWarning: Warning: converting a masked element to nan.\n",
      "  return array(a, dtype, copy=False, order=order)\n",
      "/home1/khtarnas/.conda/envs/jor/lib/python3.8/site-packages/numpy/core/_asarray.py:83: UserWarning: Warning: converting a masked element to nan.\n",
      "  return array(a, dtype, copy=False, order=order)\n",
      "/home1/khtarnas/.conda/envs/jor/lib/python3.8/site-packages/numpy/core/_asarray.py:83: UserWarning: Warning: converting a masked element to nan.\n",
      "  return array(a, dtype, copy=False, order=order)\n",
      "/home1/khtarnas/.conda/envs/jor/lib/python3.8/site-packages/numpy/core/_asarray.py:83: UserWarning: Warning: converting a masked element to nan.\n",
      "  return array(a, dtype, copy=False, order=order)\n",
      "/home1/khtarnas/.conda/envs/jor/lib/python3.8/site-packages/numpy/core/_asarray.py:83: UserWarning: Warning: converting a masked element to nan.\n",
      "  return array(a, dtype, copy=False, order=order)\n"
     ]
    },
    {
     "data": {
      "image/png": "[encoded data removed]",
      "text/plain": [
       "<Figure size 432x288 with 1 Axes>"
      ]
     },
     "metadata": {
      "needs_background": "light"
     },
     "output_type": "display_data"
    }
   ],
   "source": [
    "recreate_accuracy_graph(df, comparisons, distances)"
   ]
  },
  {
   "cell_type": "code",
   "execution_count": null,
   "metadata": {},
   "outputs": [],
   "source": []
  }
 ],
 "metadata": {
  "kernelspec": {
   "display_name": "jor",
   "language": "python",
   "name": "jor"
  },
  "language_info": {
   "codemirror_mode": {
    "name": "ipython",
    "version": 3
   },
   "file_extension": ".py",
   "mimetype": "text/x-python",
   "name": "python",
   "nbconvert_exporter": "python",
   "pygments_lexer": "ipython3",
   "version": "3.8.8"
  }
 },
 "nbformat": 4,
 "nbformat_minor": 4
}
