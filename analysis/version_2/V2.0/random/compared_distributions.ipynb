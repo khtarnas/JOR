{
 "cells": [
  {
   "cell_type": "code",
   "execution_count": 2,
   "metadata": {},
   "outputs": [],
   "source": [
    "import pandas as pd\n",
    "import matplotlib.pyplot as plt\n",
    "import numpy as np"
   ]
  },
  {
   "cell_type": "code",
   "execution_count": 3,
   "metadata": {},
   "outputs": [],
   "source": [
    "%store -r data_frame_2\n",
    "%store -r data_frame\n",
    "df2 = data_frame_2\n",
    "df = data_frame"
   ]
  },
  {
   "cell_type": "code",
   "execution_count": 4,
   "metadata": {},
   "outputs": [],
   "source": [
    "x = df[(df['left_comp_type'] == 4) & (df['right_comp_type'] == 16)]\n",
    "y = df[(df['left_comp_type'] == 16) & (df['right_comp_type'] == 4)]\n",
    "temp = pd.concat([x, y])\n",
    "correct = temp[temp['correct_side'] == temp['chosen_side']]"
   ]
  },
  {
   "cell_type": "code",
   "execution_count": null,
   "metadata": {},
   "outputs": [],
   "source": [
    "data = []\n",
    "for i in subjs:\n",
    "    data.append(len(correct[correct['uniqueid'] == i])/2)"
   ]
  },
  {
   "cell_type": "code",
   "execution_count": null,
   "metadata": {},
   "outputs": [],
   "source": [
    "fig = plt.figure(); ax = plt.subplot(111)\n",
    "arr = plt.hist(data, bins=[-0.25,0.25,0.75,1.25])\n",
    "plt.xticks([0, 0.5, 1])\n",
    "plt.ylim(0, 125)\n",
    "for i in range(3):\n",
    "    plt.text(i*0.5,arr[0][i]+0.8, str(int(arr[0][i])))\n",
    "plt.title('Distribution of Subject Performance on 40 vs 4 Comparison')\n",
    "plt.xlabel('Proportion Correct')\n",
    "plt.ylabel('Quantity of Subjects')\n",
    "plt.savefig('40_vs_4_distribution.pdf', format='pdf', dpi=1200)"
   ]
  }
 ],
 "metadata": {
  "kernelspec": {
   "display_name": "jor",
   "language": "python",
   "name": "jor"
  },
  "language_info": {
   "codemirror_mode": {
    "name": "ipython",
    "version": 3
   },
   "file_extension": ".py",
   "mimetype": "text/x-python",
   "name": "python",
   "nbconvert_exporter": "python",
   "pygments_lexer": "ipython3",
   "version": "3.8.8"
  }
 },
 "nbformat": 4,
 "nbformat_minor": 4
}
